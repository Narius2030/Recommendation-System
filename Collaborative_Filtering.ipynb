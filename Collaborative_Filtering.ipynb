{
 "cells": [
  {
   "cell_type": "code",
   "execution_count": 129,
   "id": "d327820a-c8c6-4462-a90b-001d5cafe685",
   "metadata": {},
   "outputs": [],
   "source": [
    "import pandas as pd\n",
    "import numpy as np\n",
    "import tensorflow as tf\n",
    "import math\n",
    "import heapq\n",
    "from tqdm import tqdm\n",
    "from sklearn.preprocessing import MinMaxScaler"
   ]
  },
  {
   "cell_type": "code",
   "execution_count": 130,
   "id": "832ad6f0-42d1-44fd-9052-8cf239bc678a",
   "metadata": {},
   "outputs": [],
   "source": [
    "# Đọc data từ file CSV\n",
    "origin_data = pd.read_csv('./customer_product_dtmtb.csv')\n",
    "customer_product_df = origin_data[['customerId', 'productId', 'rating']]"
   ]
  },
  {
   "cell_type": "code",
   "execution_count": 131,
   "id": "4c9b6f83-368c-4ba5-b852-e360d9e48e80",
   "metadata": {},
   "outputs": [
    {
     "data": {
      "text/html": [
       "<div>\n",
       "<style scoped>\n",
       "    .dataframe tbody tr th:only-of-type {\n",
       "        vertical-align: middle;\n",
       "    }\n",
       "\n",
       "    .dataframe tbody tr th {\n",
       "        vertical-align: top;\n",
       "    }\n",
       "\n",
       "    .dataframe thead th {\n",
       "        text-align: right;\n",
       "    }\n",
       "</style>\n",
       "<table border=\"1\" class=\"dataframe\">\n",
       "  <thead>\n",
       "    <tr style=\"text-align: right;\">\n",
       "      <th></th>\n",
       "      <th>customerId</th>\n",
       "      <th>productId</th>\n",
       "      <th>rating</th>\n",
       "    </tr>\n",
       "  </thead>\n",
       "  <tbody>\n",
       "    <tr>\n",
       "      <th>0</th>\n",
       "      <td>245967</td>\n",
       "      <td>271046571</td>\n",
       "      <td>5</td>\n",
       "    </tr>\n",
       "    <tr>\n",
       "      <th>1</th>\n",
       "      <td>20220461</td>\n",
       "      <td>271046571</td>\n",
       "      <td>5</td>\n",
       "    </tr>\n",
       "    <tr>\n",
       "      <th>2</th>\n",
       "      <td>17677024</td>\n",
       "      <td>271046571</td>\n",
       "      <td>5</td>\n",
       "    </tr>\n",
       "    <tr>\n",
       "      <th>3</th>\n",
       "      <td>1316594</td>\n",
       "      <td>271046571</td>\n",
       "      <td>5</td>\n",
       "    </tr>\n",
       "    <tr>\n",
       "      <th>4</th>\n",
       "      <td>11567233</td>\n",
       "      <td>271046571</td>\n",
       "      <td>5</td>\n",
       "    </tr>\n",
       "    <tr>\n",
       "      <th>...</th>\n",
       "      <td>...</td>\n",
       "      <td>...</td>\n",
       "      <td>...</td>\n",
       "    </tr>\n",
       "    <tr>\n",
       "      <th>607</th>\n",
       "      <td>6313819</td>\n",
       "      <td>191089547</td>\n",
       "      <td>5</td>\n",
       "    </tr>\n",
       "    <tr>\n",
       "      <th>608</th>\n",
       "      <td>22202828</td>\n",
       "      <td>191089547</td>\n",
       "      <td>5</td>\n",
       "    </tr>\n",
       "    <tr>\n",
       "      <th>609</th>\n",
       "      <td>19013048</td>\n",
       "      <td>205750556</td>\n",
       "      <td>5</td>\n",
       "    </tr>\n",
       "    <tr>\n",
       "      <th>610</th>\n",
       "      <td>17556056</td>\n",
       "      <td>123345348</td>\n",
       "      <td>5</td>\n",
       "    </tr>\n",
       "    <tr>\n",
       "      <th>611</th>\n",
       "      <td>7068044</td>\n",
       "      <td>214756058</td>\n",
       "      <td>5</td>\n",
       "    </tr>\n",
       "  </tbody>\n",
       "</table>\n",
       "<p>612 rows × 3 columns</p>\n",
       "</div>"
      ],
      "text/plain": [
       "     customerId  productId  rating\n",
       "0        245967  271046571       5\n",
       "1      20220461  271046571       5\n",
       "2      17677024  271046571       5\n",
       "3       1316594  271046571       5\n",
       "4      11567233  271046571       5\n",
       "..          ...        ...     ...\n",
       "607     6313819  191089547       5\n",
       "608    22202828  191089547       5\n",
       "609    19013048  205750556       5\n",
       "610    17556056  123345348       5\n",
       "611     7068044  214756058       5\n",
       "\n",
       "[612 rows x 3 columns]"
      ]
     },
     "execution_count": 131,
     "metadata": {},
     "output_type": "execute_result"
    }
   ],
   "source": [
    "customer_product_df"
   ]
  },
  {
   "cell_type": "markdown",
   "id": "a1a96a51-1bdd-4fcd-a9fa-de83e5c1930b",
   "metadata": {},
   "source": [
    "Chuyển rating về giá trị từ 0 đến 1"
   ]
  },
  {
   "cell_type": "code",
   "execution_count": 132,
   "id": "28d86b5d-eecd-4e74-b794-737a0b3ca090",
   "metadata": {},
   "outputs": [
    {
     "name": "stdout",
     "output_type": "stream",
     "text": [
      "     customerId  productId  rating\n",
      "0        245967  271046571     1.0\n",
      "1      20220461  271046571     1.0\n",
      "2      17677024  271046571     1.0\n",
      "3       1316594  271046571     1.0\n",
      "4      11567233  271046571     1.0\n",
      "..          ...        ...     ...\n",
      "607     6313819  191089547     1.0\n",
      "608    22202828  191089547     1.0\n",
      "609    19013048  205750556     1.0\n",
      "610    17556056  123345348     1.0\n",
      "611     7068044  214756058     1.0\n",
      "\n",
      "[612 rows x 3 columns]\n"
     ]
    }
   ],
   "source": [
    "# Khởi tạo MinMaxScaler với range từ 0 đến 1\n",
    "scaler = MinMaxScaler(feature_range=(0, 1))\n",
    "\n",
    "# Chọn cột cần chuyển đổi\n",
    "column_to_scale = 'rating'\n",
    "\n",
    "# Chuyển đổi cột thành giá trị 0-1\n",
    "scaled_column = scaler.fit_transform(customer_product_df[[column_to_scale]])\n",
    "\n",
    "# Ghi đè lên cột ban đầu trong DataFrame\n",
    "customer_product_df.loc[:, column_to_scale] = scaled_column.flatten()\n",
    "\n",
    "# In ra DataFrame đã được chuyển đổi\n",
    "print(customer_product_df)\n"
   ]
  },
  {
   "cell_type": "markdown",
   "id": "2fa8925b-1fdb-4ce5-810d-1c4499fc395e",
   "metadata": {},
   "source": [
    "## Chuyển đổi dataframe về dạng matrix"
   ]
  },
  {
   "cell_type": "code",
   "execution_count": 133,
   "id": "02f4ba3d-4398-4a79-b74c-6983b63c5c9a",
   "metadata": {},
   "outputs": [
    {
     "name": "stdout",
     "output_type": "stream",
     "text": [
      "          271046571  184036446  184059211  183330021  57809866   43924153   \\\n",
      "245967          1.0        0.0        0.0        0.0        0.0        0.0   \n",
      "20220461        1.0        0.0        0.0        0.0        0.0        0.0   \n",
      "17677024        1.0        0.0        0.0        0.0        0.0        0.0   \n",
      "1316594         1.0        0.0        0.0        0.0        0.0        0.0   \n",
      "11567233        1.0        0.0        0.0        0.0        1.0        0.0   \n",
      "\n",
      "          120295859  123345348  244308977  6597807    ...  274095168  \\\n",
      "245967          0.0        0.0        0.0        0.0  ...        0.0   \n",
      "20220461        0.0        0.0        0.0        0.0  ...        0.0   \n",
      "17677024        0.0        0.0        0.0        0.0  ...        0.0   \n",
      "1316594         0.0        0.0        0.0        0.0  ...        0.0   \n",
      "11567233        0.0        0.0        0.0        0.0  ...        0.0   \n",
      "\n",
      "          271972435  270447782  197670818  247829297  205750556  273175604  \\\n",
      "245967          1.0        0.0        0.0        0.0        0.0        0.0   \n",
      "20220461        0.0        0.0        0.0        0.0        0.0        0.0   \n",
      "17677024        0.0        0.0        0.0        0.0        0.0        0.0   \n",
      "1316594         0.0        0.0        0.0        0.0        0.0        0.0   \n",
      "11567233        0.0        0.0        0.0        0.0        0.0        0.0   \n",
      "\n",
      "          274101255  214756058  274037360  \n",
      "245967          0.0        0.0        0.0  \n",
      "20220461        0.0        0.0        0.0  \n",
      "17677024        0.0        0.0        0.0  \n",
      "1316594         0.0        0.0        0.0  \n",
      "11567233        0.0        0.0        0.0  \n",
      "\n",
      "[5 rows x 75 columns]\n"
     ]
    }
   ],
   "source": [
    "# Tạo DataFrame mới\n",
    "product_ids = customer_product_df['productId'].unique()\n",
    "customer_ids = customer_product_df['customerId'].unique()\n",
    "\n",
    "# Tạo DataFrame mới với tất cả giá trị ban đầu là 0\n",
    "df = pd.DataFrame(0.0, index=customer_ids, columns=product_ids)\n",
    "\n",
    "# Lặp qua từng dòng trong customer_product_df\n",
    "for index, row in customer_product_df.iterrows():\n",
    "    customer_id = row['customerId']\n",
    "    product_id = row['productId']\n",
    "    rating = row['rating']\n",
    "    \n",
    "    # Thay thế số 0 bằng giá trị cột 'rating' tương ứng, đã chuyển đổi sang float\n",
    "    df.at[customer_id, product_id] = float(rating)\n",
    "\n",
    "# Hiển thị DataFrame mới\n",
    "print(df.head())\n"
   ]
  },
  {
   "cell_type": "markdown",
   "id": "bce72f91-986e-4a0a-aa75-69231f2414ba",
   "metadata": {},
   "source": [
    "# Collaborative Filtering - Cosine"
   ]
  },
  {
   "cell_type": "code",
   "execution_count": 134,
   "id": "d8225d3a-a93f-4ade-ac1b-37eca9db6b87",
   "metadata": {},
   "outputs": [],
   "source": [
    "from sklearn.metrics.pairwise import cosine_similarity\n",
    "from scipy.stats import pearsonr\n"
   ]
  },
  {
   "cell_type": "markdown",
   "id": "84b948dc-af92-4e32-85c3-40126dd989b5",
   "metadata": {},
   "source": [
    "### Tạo ma trận rating "
   ]
  },
  {
   "cell_type": "markdown",
   "id": "b1455e27-408f-4174-bb50-3b9005d2cbc2",
   "metadata": {},
   "source": [
    "#### Hàm tính ma trận similarity - Pearson corralation coeficient"
   ]
  },
  {
   "cell_type": "code",
   "execution_count": 135,
   "id": "a1d6b7c8-c5ed-4bfd-9365-f07c9c4ea53d",
   "metadata": {},
   "outputs": [],
   "source": [
    "# Hàm tính Pearson correlation coefficient giữa hai vector\n",
    "def pearson_similarity(x, y):\n",
    "    mask = np.logical_and(~np.isnan(x), ~np.isnan(y))\n",
    "    if np.sum(mask) > 1:\n",
    "        return pearsonr(x[mask], y[mask])[0]\n",
    "    else:\n",
    "        return 0  # Trường hợp không đủ dữ liệu để tính toán\n",
    "\n",
    "# Hàm tính ma trận similarity giữa các items dựa trên Pearson correlation coefficient\n",
    "def item_similarity_matrix_pearson(matrix):\n",
    "    num_items = matrix.shape[1]\n",
    "    similarity_matrix = np.zeros((num_items, num_items))\n",
    "    for i in range(num_items):\n",
    "        for j in range(num_items):\n",
    "            similarity_matrix[i, j] = pearson_similarity(matrix[:, i], matrix[:, j])\n",
    "    return similarity_matrix"
   ]
  },
  {
   "cell_type": "markdown",
   "id": "c84ea031-b674-40fd-9267-f250501134a8",
   "metadata": {},
   "source": [
    "#### Hàm tính ma trận similarity - Adjusted Cosine Similarity"
   ]
  },
  {
   "cell_type": "code",
   "execution_count": 136,
   "id": "4107bfec-006b-4958-9c50-9ae4357986a6",
   "metadata": {},
   "outputs": [],
   "source": [
    "# Hàm tính Adjusted Cosine Similarity giữa hai vector\n",
    "def adjusted_cosine_similarity(x, y):\n",
    "    mask = np.logical_and(~np.isnan(x), ~np.isnan(y))\n",
    "    if np.sum(mask) > 1:\n",
    "        x_mean = np.mean(x[mask])\n",
    "        y_mean = np.mean(y[mask])\n",
    "        numerator = np.sum((x[mask] - x_mean) * (y[mask] - y_mean))\n",
    "        denominator = np.sqrt(np.sum((x[mask] - x_mean) ** 2) * np.sum((y[mask] - y_mean) ** 2))\n",
    "        if denominator != 0:\n",
    "            return numerator / denominator\n",
    "        else:\n",
    "            return 0  # Trường hợp mẫu số bằng 0\n",
    "    else:\n",
    "        return 0  # Trường hợp không đủ dữ liệu để tính toán\n",
    "\n",
    "# Hàm tính ma trận similarity giữa các items dựa trên Adjusted Cosine Similarity\n",
    "def item_similarity_matrix_adjusted_cosine(matrix):\n",
    "    num_items = matrix.shape[1]\n",
    "    similarity_matrix = np.zeros((num_items, num_items))\n",
    "    for i in range(num_items):\n",
    "        for j in range(num_items):\n",
    "            similarity_matrix[i, j] = adjusted_cosine_similarity(matrix[:, i], matrix[:, j])\n",
    "    return similarity_matrix"
   ]
  },
  {
   "cell_type": "markdown",
   "id": "d3e0b8ee-56ce-4b2d-bf96-3c645a356508",
   "metadata": {},
   "source": [
    "#### Hàm dự đoán rating"
   ]
  },
  {
   "cell_type": "code",
   "execution_count": 137,
   "id": "63a894f3-bcae-4856-a66e-bfa22af1fb37",
   "metadata": {},
   "outputs": [],
   "source": [
    "def predict_ratings(similarity_matrix, matrix):\n",
    "    \"\"\"Hàm dự đoán rating cho các cặp người dùng-item chưa được rating dựa trên similarity matrix\"\"\"\n",
    "    num_users, num_items = matrix.shape\n",
    "    predicted_ratings = np.zeros((num_users, num_items))\n",
    "    for i in range(num_users):\n",
    "        for j in range(num_items):\n",
    "            if np.isnan(matrix[i, j]):  # Chỉ dự đoán cho các cặp người dùng-item chưa được rating\n",
    "                rated_indices = np.where(~np.isnan(matrix[i]))[0]  # Các mục đã được rating\n",
    "                rated_similarities = similarity_matrix[j, rated_indices]  # Tương đồng giữa mục cần dự đoán và các mục đã được rating\n",
    "                rated_ratings = matrix[i, rated_indices]  # Các ratings của các mục đã được rating\n",
    "                predicted_ratings[i, j] = np.dot(rated_similarities, rated_ratings) / np.sum(np.abs(rated_similarities))\n",
    "    return predicted_ratings"
   ]
  },
  {
   "cell_type": "markdown",
   "id": "8ed7a70e-a258-4f8b-a123-20200ceb60b7",
   "metadata": {},
   "source": [
    "#### Tính ma trận"
   ]
  },
  {
   "cell_type": "code",
   "execution_count": 138,
   "id": "ab6e0a65-5318-472e-a3e5-b277f1baabe7",
   "metadata": {},
   "outputs": [
    {
     "name": "stdout",
     "output_type": "stream",
     "text": [
      "Predicted Ratings (Pearson):\n",
      "[[0. 0. 0. ... 0. 0. 0.]\n",
      " [0. 0. 0. ... 0. 0. 0.]\n",
      " [0. 0. 0. ... 0. 0. 0.]\n",
      " ...\n",
      " [0. 0. 0. ... 0. 0. 0.]\n",
      " [0. 0. 0. ... 0. 0. 0.]\n",
      " [0. 0. 0. ... 0. 0. 0.]]\n"
     ]
    }
   ],
   "source": [
    "# Tính ma trận similarity giữa các items dựa trên Pearson correlation coefficient\n",
    "similarity_matrix_pearson = item_similarity_matrix_pearson(df.values)\n",
    "\n",
    "# Dự đoán rating cho các cặp người dùng-item chưa được rating dựa trên Pearson correlation coefficient\n",
    "predicted_ratings_pearson = predict_ratings(similarity_matrix_pearson, df.values)\n",
    "\n",
    "# In ra ma trận dự đoán\n",
    "print(\"Predicted Ratings (Pearson):\")\n",
    "print(predicted_ratings_pearson)"
   ]
  },
  {
   "cell_type": "code",
   "execution_count": 139,
   "id": "b54d67be-1661-40d9-b3f8-25dccd3ec5a9",
   "metadata": {},
   "outputs": [
    {
     "name": "stdout",
     "output_type": "stream",
     "text": [
      "Predicted Ratings (Adjusted Cosine):\n",
      "[[0. 0. 0. ... 0. 0. 0.]\n",
      " [0. 0. 0. ... 0. 0. 0.]\n",
      " [0. 0. 0. ... 0. 0. 0.]\n",
      " ...\n",
      " [0. 0. 0. ... 0. 0. 0.]\n",
      " [0. 0. 0. ... 0. 0. 0.]\n",
      " [0. 0. 0. ... 0. 0. 0.]]\n"
     ]
    }
   ],
   "source": [
    "# Tính ma trận similarity giữa các items dựa trên Adjusted Cosine Similarity\n",
    "similarity_matrix_adjusted_cosine = item_similarity_matrix_adjusted_cosine(df.values)\n",
    "\n",
    "# Dự đoán rating cho các cặp người dùng-item chưa được rating dựa trên Adjusted Cosine Similarity\n",
    "predicted_ratings_adjusted_cosine = predict_ratings(similarity_matrix_adjusted_cosine, df.values)\n",
    "\n",
    "# In ra ma trận dự đoán\n",
    "print(\"Predicted Ratings (Adjusted Cosine):\")\n",
    "print(predicted_ratings_adjusted_cosine)"
   ]
  },
  {
   "cell_type": "markdown",
   "id": "a5c1f1b8-4112-45d0-9abe-e4df499173b7",
   "metadata": {},
   "source": [
    "### Dự đoán product cho user 0"
   ]
  },
  {
   "cell_type": "code",
   "execution_count": 140,
   "id": "0b987cbf-cc18-4d31-a1e3-2b62fc6dfb38",
   "metadata": {},
   "outputs": [
    {
     "name": "stdout",
     "output_type": "stream",
     "text": [
      "Pearson correlation coefficient - Recommended Items for User 0:\n",
      " [74 18 20 21 22]\n",
      "Adjusted Cosine Similarity - Recommended Items for User 0:\n",
      " [74 18 20 21 22]\n"
     ]
    }
   ],
   "source": [
    "from sklearn.metrics import mean_squared_error\n",
    "\n",
    "# User ID cần dự đoán\n",
    "user_id = 0\n",
    "\n",
    "# Rating thực tế của user_id\n",
    "true_ratings = df.values[user_id]\n",
    "\n",
    "# Dự đoán rating cho user_id sử dụng Pearson correlation coefficient\n",
    "predicted_ratings_pearson_user = predicted_ratings_pearson[user_id]\n",
    "top_5_recommendations = predicted_ratings_pearson_user.argsort()[-5:][::-1]\n",
    "print(\"Pearson correlation coefficient - Recommended Items for User 0:\\n\", top_5_recommendations)\n",
    "\n",
    "# Dự đoán rating cho user_id sử dụng Adjusted Cosine Similarity\n",
    "predicted_ratings_adjusted_cosine_user = predicted_ratings_adjusted_cosine[user_id]\n",
    "top_5_recommendations = predicted_ratings_adjusted_cosine_user.argsort()[-5:][::-1]\n",
    "print(\"Adjusted Cosine Similarity - Recommended Items for User 0:\\n\", top_5_recommendations)"
   ]
  },
  {
   "cell_type": "markdown",
   "id": "ba291d4f-dc8f-42c6-b06e-9216f9fe434c",
   "metadata": {},
   "source": [
    "### Đánh giá mô hình"
   ]
  },
  {
   "cell_type": "code",
   "execution_count": 141,
   "id": "9afe08e8-cfb5-41a4-ab97-297cb09a0330",
   "metadata": {},
   "outputs": [
    {
     "name": "stdout",
     "output_type": "stream",
     "text": [
      "MSE (Pearson): 0.04592592592592592\n",
      "RMSE (Pearson): 0.21430335024428787\n",
      "MSE (Adjusted Cosine): 0.04592592592592592\n",
      "RMSE (Adjusted Cosine): 0.21430335024428787\n"
     ]
    }
   ],
   "source": [
    "# Tính MSE cho Pearson correlation coefficient\n",
    "mse_pearson = mean_squared_error(true_ratings, predicted_ratings_pearson_user)\n",
    "\n",
    "# Tính RMSE cho Pearson correlation coefficient\n",
    "rmse_pearson = np.sqrt(mse_pearson)\n",
    "\n",
    "# Tính MSE cho Adjusted Cosine Similarity\n",
    "mse_adjusted_cosine = mean_squared_error(true_ratings, predicted_ratings_adjusted_cosine_user)\n",
    "\n",
    "# Tính RMSE cho Adjusted Cosine Similarity\n",
    "rmse_adjusted_cosine = np.sqrt(mse_adjusted_cosine)\n",
    "\n",
    "print(\"MSE (Pearson):\", mse_pearson)\n",
    "print(\"RMSE (Pearson):\", rmse_pearson)\n",
    "\n",
    "print(\"MSE (Adjusted Cosine):\", mse_adjusted_cosine)\n",
    "print(\"RMSE (Adjusted Cosine):\", rmse_adjusted_cosine)"
   ]
  },
  {
   "cell_type": "markdown",
   "id": "e83b5c8e-b1d9-4a47-abf4-3470be2f8dfb",
   "metadata": {},
   "source": [
    "# Collaborative Filtering - KNN"
   ]
  },
  {
   "cell_type": "code",
   "execution_count": 142,
   "id": "3b79b3ca-6d38-46c4-a1b8-f7e525d7453c",
   "metadata": {},
   "outputs": [
    {
     "data": {
      "text/html": [
       "<style>#sk-container-id-7 {color: black;}#sk-container-id-7 pre{padding: 0;}#sk-container-id-7 div.sk-toggleable {background-color: white;}#sk-container-id-7 label.sk-toggleable__label {cursor: pointer;display: block;width: 100%;margin-bottom: 0;padding: 0.3em;box-sizing: border-box;text-align: center;}#sk-container-id-7 label.sk-toggleable__label-arrow:before {content: \"▸\";float: left;margin-right: 0.25em;color: #696969;}#sk-container-id-7 label.sk-toggleable__label-arrow:hover:before {color: black;}#sk-container-id-7 div.sk-estimator:hover label.sk-toggleable__label-arrow:before {color: black;}#sk-container-id-7 div.sk-toggleable__content {max-height: 0;max-width: 0;overflow: hidden;text-align: left;background-color: #f0f8ff;}#sk-container-id-7 div.sk-toggleable__content pre {margin: 0.2em;color: black;border-radius: 0.25em;background-color: #f0f8ff;}#sk-container-id-7 input.sk-toggleable__control:checked~div.sk-toggleable__content {max-height: 200px;max-width: 100%;overflow: auto;}#sk-container-id-7 input.sk-toggleable__control:checked~label.sk-toggleable__label-arrow:before {content: \"▾\";}#sk-container-id-7 div.sk-estimator input.sk-toggleable__control:checked~label.sk-toggleable__label {background-color: #d4ebff;}#sk-container-id-7 div.sk-label input.sk-toggleable__control:checked~label.sk-toggleable__label {background-color: #d4ebff;}#sk-container-id-7 input.sk-hidden--visually {border: 0;clip: rect(1px 1px 1px 1px);clip: rect(1px, 1px, 1px, 1px);height: 1px;margin: -1px;overflow: hidden;padding: 0;position: absolute;width: 1px;}#sk-container-id-7 div.sk-estimator {font-family: monospace;background-color: #f0f8ff;border: 1px dotted black;border-radius: 0.25em;box-sizing: border-box;margin-bottom: 0.5em;}#sk-container-id-7 div.sk-estimator:hover {background-color: #d4ebff;}#sk-container-id-7 div.sk-parallel-item::after {content: \"\";width: 100%;border-bottom: 1px solid gray;flex-grow: 1;}#sk-container-id-7 div.sk-label:hover label.sk-toggleable__label {background-color: #d4ebff;}#sk-container-id-7 div.sk-serial::before {content: \"\";position: absolute;border-left: 1px solid gray;box-sizing: border-box;top: 0;bottom: 0;left: 50%;z-index: 0;}#sk-container-id-7 div.sk-serial {display: flex;flex-direction: column;align-items: center;background-color: white;padding-right: 0.2em;padding-left: 0.2em;position: relative;}#sk-container-id-7 div.sk-item {position: relative;z-index: 1;}#sk-container-id-7 div.sk-parallel {display: flex;align-items: stretch;justify-content: center;background-color: white;position: relative;}#sk-container-id-7 div.sk-item::before, #sk-container-id-7 div.sk-parallel-item::before {content: \"\";position: absolute;border-left: 1px solid gray;box-sizing: border-box;top: 0;bottom: 0;left: 50%;z-index: -1;}#sk-container-id-7 div.sk-parallel-item {display: flex;flex-direction: column;z-index: 1;position: relative;background-color: white;}#sk-container-id-7 div.sk-parallel-item:first-child::after {align-self: flex-end;width: 50%;}#sk-container-id-7 div.sk-parallel-item:last-child::after {align-self: flex-start;width: 50%;}#sk-container-id-7 div.sk-parallel-item:only-child::after {width: 0;}#sk-container-id-7 div.sk-dashed-wrapped {border: 1px dashed gray;margin: 0 0.4em 0.5em 0.4em;box-sizing: border-box;padding-bottom: 0.4em;background-color: white;}#sk-container-id-7 div.sk-label label {font-family: monospace;font-weight: bold;display: inline-block;line-height: 1.2em;}#sk-container-id-7 div.sk-label-container {text-align: center;}#sk-container-id-7 div.sk-container {/* jupyter's `normalize.less` sets `[hidden] { display: none; }` but bootstrap.min.css set `[hidden] { display: none !important; }` so we also need the `!important` here to be able to override the default hidden behavior on the sphinx rendered scikit-learn.org. See: https://github.com/scikit-learn/scikit-learn/issues/21755 */display: inline-block !important;position: relative;}#sk-container-id-7 div.sk-text-repr-fallback {display: none;}</style><div id=\"sk-container-id-7\" class=\"sk-top-container\"><div class=\"sk-text-repr-fallback\"><pre>NearestNeighbors(algorithm=&#x27;brute&#x27;, metric=&#x27;cosine&#x27;)</pre><b>In a Jupyter environment, please rerun this cell to show the HTML representation or trust the notebook. <br />On GitHub, the HTML representation is unable to render, please try loading this page with nbviewer.org.</b></div><div class=\"sk-container\" hidden><div class=\"sk-item\"><div class=\"sk-estimator sk-toggleable\"><input class=\"sk-toggleable__control sk-hidden--visually\" id=\"sk-estimator-id-7\" type=\"checkbox\" checked><label for=\"sk-estimator-id-7\" class=\"sk-toggleable__label sk-toggleable__label-arrow\">NearestNeighbors</label><div class=\"sk-toggleable__content\"><pre>NearestNeighbors(algorithm=&#x27;brute&#x27;, metric=&#x27;cosine&#x27;)</pre></div></div></div></div></div>"
      ],
      "text/plain": [
       "NearestNeighbors(algorithm='brute', metric='cosine')"
      ]
     },
     "execution_count": 142,
     "metadata": {},
     "output_type": "execute_result"
    }
   ],
   "source": [
    "import pandas as pd\n",
    "from sklearn.neighbors import NearestNeighbors\n",
    "\n",
    "# Chuyển đổi tên cột thành chuỗi\n",
    "df.columns = df.columns.astype(str)\n",
    "\n",
    "# Xây dựng mô hình KNN\n",
    "knn_model = NearestNeighbors(metric='cosine', algorithm='brute')\n",
    "knn_model.fit(df)"
   ]
  },
  {
   "cell_type": "markdown",
   "id": "97f32844-0e59-4ea0-a20f-9345cdbdcece",
   "metadata": {},
   "source": [
    "### Đề xuất cho Customer 0"
   ]
  },
  {
   "cell_type": "code",
   "execution_count": 143,
   "id": "4612e4d0-bda1-4940-888d-282cc117cf65",
   "metadata": {},
   "outputs": [
    {
     "name": "stdout",
     "output_type": "stream",
     "text": [
      "Predicted ratings for userId 0: 271046571    0.6\n",
      "184036446    0.0\n",
      "184059211    0.0\n",
      "183330021    0.0\n",
      "57809866     0.0\n",
      "            ... \n",
      "205750556    0.0\n",
      "273175604    0.0\n",
      "274101255    0.0\n",
      "214756058    0.0\n",
      "274037360    0.0\n",
      "Length: 75, dtype: float64\n"
     ]
    },
    {
     "name": "stderr",
     "output_type": "stream",
     "text": [
      "C:\\Users\\HUYNH THIEN NHAN\\AppData\\Local\\Programs\\Python\\Python39\\lib\\site-packages\\sklearn\\base.py:465: UserWarning: X does not have valid feature names, but NearestNeighbors was fitted with feature names\n",
      "  warnings.warn(\n"
     ]
    }
   ],
   "source": [
    "# Dự đoán rating cho userId thứ 0\n",
    "user_id = 0\n",
    "user_ratings = df.iloc[user_id]  # Lấy các rating của user\n",
    "new_data = user_ratings.values.reshape(1, -1)  # Chuyển đổi thành mảng 2D\n",
    "distances, indices = knn_model.kneighbors(new_data)  # Tìm các user láng giềng gần nhất\n",
    "neighbor_ratings = df.iloc[indices[0]]  # Lấy các rating của các user láng giềng\n",
    "predicted_ratings = neighbor_ratings.mean(axis=0)  # Dự đoán rating bằng trung bình của các user láng giềng\n",
    "\n",
    "# In ra rating dự đoán cho userId thứ 0\n",
    "print(\"Predicted ratings for userId 0:\", predicted_ratings)"
   ]
  },
  {
   "cell_type": "code",
   "execution_count": 144,
   "id": "80073de3-8d41-4626-bb5c-4f1ea39a485f",
   "metadata": {},
   "outputs": [
    {
     "name": "stdout",
     "output_type": "stream",
     "text": [
      "Top 5 Recommended Items for User 0:\n",
      " 274037360     0\n",
      "214756058    66\n",
      "274101255    19\n",
      "273175604    14\n",
      "205750556    33\n",
      "dtype: int64\n"
     ]
    }
   ],
   "source": [
    "# Lấy top 5 đề xuất từ các predicted ratings\n",
    "top_5_recommendations = predicted_ratings.argsort()[-5:][::-1]\n",
    "\n",
    "print(\"Top 5 Recommended Items for User 0:\\n\", top_5_recommendations)"
   ]
  },
  {
   "cell_type": "markdown",
   "id": "88da59eb-4a17-4f71-ae04-3ab70b090278",
   "metadata": {},
   "source": [
    "### Đánh giá mô hình"
   ]
  },
  {
   "cell_type": "code",
   "execution_count": 145,
   "id": "f438cbb5-6e53-4f75-935c-125afb6b0282",
   "metadata": {},
   "outputs": [
    {
     "name": "stdout",
     "output_type": "stream",
     "text": [
      "Mean squared error: 0.015525925925925922\n"
     ]
    }
   ],
   "source": [
    "# Đánh giá mô hình bằng mean squared error\n",
    "actual_ratings = df.iloc[user_id]  # Lấy các rating thực tế của userId 0\n",
    "mse = mean_squared_error(actual_ratings, predicted_ratings)\n",
    "print(\"Mean squared error:\", mse)"
   ]
  },
  {
   "cell_type": "code",
   "execution_count": null,
   "id": "8c17ebee-bbab-4c37-bd1d-f208d392209e",
   "metadata": {},
   "outputs": [],
   "source": []
  }
 ],
 "metadata": {
  "kernelspec": {
   "display_name": "Python 3 (ipykernel)",
   "language": "python",
   "name": "python3"
  },
  "language_info": {
   "codemirror_mode": {
    "name": "ipython",
    "version": 3
   },
   "file_extension": ".py",
   "mimetype": "text/x-python",
   "name": "python",
   "nbconvert_exporter": "python",
   "pygments_lexer": "ipython3",
   "version": "3.9.12"
  }
 },
 "nbformat": 4,
 "nbformat_minor": 5
}
