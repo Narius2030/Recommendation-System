{
 "cells": [
  {
   "cell_type": "code",
   "execution_count": 2,
   "metadata": {},
   "outputs": [],
   "source": [
    "import pandas as pd\n",
    "import numpy as np\n",
    "import matplotlib.pyplot as plt\n",
    "from sklearn.decomposition import TruncatedSVD"
   ]
  },
  {
   "cell_type": "markdown",
   "metadata": {},
   "source": [
    "### **Load data**"
   ]
  },
  {
   "cell_type": "code",
   "execution_count": 3,
   "metadata": {},
   "outputs": [
    {
     "name": "stdout",
     "output_type": "stream",
     "text": [
      "Number of users: 943\n"
     ]
    },
    {
     "data": {
      "text/html": [
       "<div>\n",
       "<style scoped>\n",
       "    .dataframe tbody tr th:only-of-type {\n",
       "        vertical-align: middle;\n",
       "    }\n",
       "\n",
       "    .dataframe tbody tr th {\n",
       "        vertical-align: top;\n",
       "    }\n",
       "\n",
       "    .dataframe thead th {\n",
       "        text-align: right;\n",
       "    }\n",
       "</style>\n",
       "<table border=\"1\" class=\"dataframe\">\n",
       "  <thead>\n",
       "    <tr style=\"text-align: right;\">\n",
       "      <th></th>\n",
       "      <th>user_id</th>\n",
       "      <th>age</th>\n",
       "      <th>sex</th>\n",
       "      <th>occupation</th>\n",
       "      <th>zip_code</th>\n",
       "    </tr>\n",
       "  </thead>\n",
       "  <tbody>\n",
       "    <tr>\n",
       "      <th>0</th>\n",
       "      <td>1</td>\n",
       "      <td>24</td>\n",
       "      <td>M</td>\n",
       "      <td>technician</td>\n",
       "      <td>85711</td>\n",
       "    </tr>\n",
       "    <tr>\n",
       "      <th>1</th>\n",
       "      <td>2</td>\n",
       "      <td>53</td>\n",
       "      <td>F</td>\n",
       "      <td>other</td>\n",
       "      <td>94043</td>\n",
       "    </tr>\n",
       "    <tr>\n",
       "      <th>2</th>\n",
       "      <td>3</td>\n",
       "      <td>23</td>\n",
       "      <td>M</td>\n",
       "      <td>writer</td>\n",
       "      <td>32067</td>\n",
       "    </tr>\n",
       "    <tr>\n",
       "      <th>3</th>\n",
       "      <td>4</td>\n",
       "      <td>24</td>\n",
       "      <td>M</td>\n",
       "      <td>technician</td>\n",
       "      <td>43537</td>\n",
       "    </tr>\n",
       "    <tr>\n",
       "      <th>4</th>\n",
       "      <td>5</td>\n",
       "      <td>33</td>\n",
       "      <td>F</td>\n",
       "      <td>other</td>\n",
       "      <td>15213</td>\n",
       "    </tr>\n",
       "  </tbody>\n",
       "</table>\n",
       "</div>"
      ],
      "text/plain": [
       "   user_id  age sex  occupation zip_code\n",
       "0        1   24   M  technician    85711\n",
       "1        2   53   F       other    94043\n",
       "2        3   23   M      writer    32067\n",
       "3        4   24   M  technician    43537\n",
       "4        5   33   F       other    15213"
      ]
     },
     "execution_count": 3,
     "metadata": {},
     "output_type": "execute_result"
    }
   ],
   "source": [
    "#Reading user file:\n",
    "u_cols =  ['user_id', 'age', 'sex', 'occupation', 'zip_code']\n",
    "users = pd.read_csv('./data/ml-100k/u.user', sep='|', names=u_cols, encoding='latin-1')\n",
    "\n",
    "n_users = users.shape[0]\n",
    "print('Number of users:', n_users)\n",
    "users.head() #uncomment this to see some few examples"
   ]
  },
  {
   "cell_type": "code",
   "execution_count": 4,
   "metadata": {},
   "outputs": [
    {
     "name": "stdout",
     "output_type": "stream",
     "text": [
      "Number of traing rates: 90570\n",
      "Number of test rates: 9430\n"
     ]
    }
   ],
   "source": [
    "#Reading ratings file:\n",
    "r_cols = ['user_id', 'movie_id', 'rating', 'unix_timestamp']\n",
    "\n",
    "rate_train = pd.read_csv('./data/ml-100k/ua.base', sep='\\t', names=r_cols, encoding='latin-1')\n",
    "rate_test = pd.read_csv('./data/ml-100k/ua.test', sep='\\t', names=r_cols, encoding='latin-1')\n",
    "\n",
    "# rate_train = ratings_base.as_matrix()\n",
    "# rate_test = ratings_test.as_matrix()\n",
    "\n",
    "print('Number of traing rates:', rate_train.shape[0])\n",
    "print('Number of test rates:', rate_test.shape[0])"
   ]
  },
  {
   "cell_type": "code",
   "execution_count": 5,
   "metadata": {},
   "outputs": [
    {
     "name": "stdout",
     "output_type": "stream",
     "text": [
      "   user_id  movie_id  rating  unix_timestamp\n",
      "0        1         1       5       874965758\n",
      "1        1         2       3       876893171\n",
      "2        1         3       4       878542960\n",
      "3        1         4       3       876893119\n",
      "4        1         5       3       889751712\n",
      "   user_id  movie_id  rating  unix_timestamp\n",
      "0        1        20       4       887431883\n",
      "1        1        33       4       878542699\n",
      "2        1        61       4       878542420\n",
      "3        1       117       3       874965739\n",
      "4        1       155       2       878542201\n"
     ]
    }
   ],
   "source": [
    "print(rate_train.head())\n",
    "print(rate_test.head())"
   ]
  },
  {
   "cell_type": "code",
   "execution_count": 6,
   "metadata": {},
   "outputs": [
    {
     "data": {
      "text/plain": [
       "(array([1]), [Text(1, 0, '1')])"
      ]
     },
     "execution_count": 6,
     "metadata": {},
     "output_type": "execute_result"
    },
    {
     "data": {
      "image/png": "[encoded data removed]",
      "text/plain": [
       "<Figure size 640x480 with 1 Axes>"
      ]
     },
     "metadata": {},
     "output_type": "display_data"
    }
   ],
   "source": [
    "plt.boxplot(rate_train['rating'])\n",
    "plt.xticks(rotation=90)"
   ]
  },
  {
   "cell_type": "markdown",
   "metadata": {},
   "source": [
    "### **Establish item profiles**"
   ]
  },
  {
   "cell_type": "code",
   "execution_count": 7,
   "metadata": {},
   "outputs": [
    {
     "name": "stdout",
     "output_type": "stream",
     "text": [
      "Number of items: 1682\n"
     ]
    },
    {
     "data": {
      "text/html": [
       "<div>\n",
       "<style scoped>\n",
       "    .dataframe tbody tr th:only-of-type {\n",
       "        vertical-align: middle;\n",
       "    }\n",
       "\n",
       "    .dataframe tbody tr th {\n",
       "        vertical-align: top;\n",
       "    }\n",
       "\n",
       "    .dataframe thead th {\n",
       "        text-align: right;\n",
       "    }\n",
       "</style>\n",
       "<table border=\"1\" class=\"dataframe\">\n",
       "  <thead>\n",
       "    <tr style=\"text-align: right;\">\n",
       "      <th></th>\n",
       "      <th>movie id</th>\n",
       "      <th>movie title</th>\n",
       "      <th>release date</th>\n",
       "      <th>video release date</th>\n",
       "      <th>IMDb URL</th>\n",
       "      <th>unknown</th>\n",
       "      <th>Action</th>\n",
       "      <th>Adventure</th>\n",
       "      <th>Animation</th>\n",
       "      <th>Children's</th>\n",
       "      <th>...</th>\n",
       "      <th>Fantasy</th>\n",
       "      <th>Film-Noir</th>\n",
       "      <th>Horror</th>\n",
       "      <th>Musical</th>\n",
       "      <th>Mystery</th>\n",
       "      <th>Romance</th>\n",
       "      <th>Sci-Fi</th>\n",
       "      <th>Thriller</th>\n",
       "      <th>War</th>\n",
       "      <th>Western</th>\n",
       "    </tr>\n",
       "  </thead>\n",
       "  <tbody>\n",
       "    <tr>\n",
       "      <th>0</th>\n",
       "      <td>1</td>\n",
       "      <td>Toy Story (1995)</td>\n",
       "      <td>01-Jan-1995</td>\n",
       "      <td>NaN</td>\n",
       "      <td>http://us.imdb.com/M/title-exact?Toy%20Story%2...</td>\n",
       "      <td>0</td>\n",
       "      <td>0</td>\n",
       "      <td>0</td>\n",
       "      <td>1</td>\n",
       "      <td>1</td>\n",
       "      <td>...</td>\n",
       "      <td>0</td>\n",
       "      <td>0</td>\n",
       "      <td>0</td>\n",
       "      <td>0</td>\n",
       "      <td>0</td>\n",
       "      <td>0</td>\n",
       "      <td>0</td>\n",
       "      <td>0</td>\n",
       "      <td>0</td>\n",
       "      <td>0</td>\n",
       "    </tr>\n",
       "    <tr>\n",
       "      <th>1</th>\n",
       "      <td>2</td>\n",
       "      <td>GoldenEye (1995)</td>\n",
       "      <td>01-Jan-1995</td>\n",
       "      <td>NaN</td>\n",
       "      <td>http://us.imdb.com/M/title-exact?GoldenEye%20(...</td>\n",
       "      <td>0</td>\n",
       "      <td>1</td>\n",
       "      <td>1</td>\n",
       "      <td>0</td>\n",
       "      <td>0</td>\n",
       "      <td>...</td>\n",
       "      <td>0</td>\n",
       "      <td>0</td>\n",
       "      <td>0</td>\n",
       "      <td>0</td>\n",
       "      <td>0</td>\n",
       "      <td>0</td>\n",
       "      <td>0</td>\n",
       "      <td>1</td>\n",
       "      <td>0</td>\n",
       "      <td>0</td>\n",
       "    </tr>\n",
       "    <tr>\n",
       "      <th>2</th>\n",
       "      <td>3</td>\n",
       "      <td>Four Rooms (1995)</td>\n",
       "      <td>01-Jan-1995</td>\n",
       "      <td>NaN</td>\n",
       "      <td>http://us.imdb.com/M/title-exact?Four%20Rooms%...</td>\n",
       "      <td>0</td>\n",
       "      <td>0</td>\n",
       "      <td>0</td>\n",
       "      <td>0</td>\n",
       "      <td>0</td>\n",
       "      <td>...</td>\n",
       "      <td>0</td>\n",
       "      <td>0</td>\n",
       "      <td>0</td>\n",
       "      <td>0</td>\n",
       "      <td>0</td>\n",
       "      <td>0</td>\n",
       "      <td>0</td>\n",
       "      <td>1</td>\n",
       "      <td>0</td>\n",
       "      <td>0</td>\n",
       "    </tr>\n",
       "  </tbody>\n",
       "</table>\n",
       "<p>3 rows × 24 columns</p>\n",
       "</div>"
      ],
      "text/plain": [
       "   movie id        movie title release date  video release date  \\\n",
       "0         1   Toy Story (1995)  01-Jan-1995                 NaN   \n",
       "1         2   GoldenEye (1995)  01-Jan-1995                 NaN   \n",
       "2         3  Four Rooms (1995)  01-Jan-1995                 NaN   \n",
       "\n",
       "                                            IMDb URL  unknown  Action  \\\n",
       "0  http://us.imdb.com/M/title-exact?Toy%20Story%2...        0       0   \n",
       "1  http://us.imdb.com/M/title-exact?GoldenEye%20(...        0       1   \n",
       "2  http://us.imdb.com/M/title-exact?Four%20Rooms%...        0       0   \n",
       "\n",
       "   Adventure  Animation  Children's  ...  Fantasy  Film-Noir  Horror  Musical  \\\n",
       "0          0          1           1  ...        0          0       0        0   \n",
       "1          1          0           0  ...        0          0       0        0   \n",
       "2          0          0           0  ...        0          0       0        0   \n",
       "\n",
       "   Mystery  Romance  Sci-Fi  Thriller  War  Western  \n",
       "0        0        0       0         0    0        0  \n",
       "1        0        0       0         1    0        0  \n",
       "2        0        0       0         1    0        0  \n",
       "\n",
       "[3 rows x 24 columns]"
      ]
     },
     "execution_count": 7,
     "metadata": {},
     "output_type": "execute_result"
    }
   ],
   "source": [
    "#Reading items file:\n",
    "i_cols = ['movie id', 'movie title' ,'release date','video release date', 'IMDb URL', 'unknown', 'Action', 'Adventure', \n",
    "        'Animation', 'Children\\'s', 'Comedy', 'Crime', 'Documentary', 'Drama', 'Fantasy', \n",
    "        'Film-Noir', 'Horror', 'Musical', 'Mystery', 'Romance', 'Sci-Fi', 'Thriller', 'War', 'Western']\n",
    "\n",
    "items = pd.read_csv('./data/ml-100k/u.item', sep='|', names=i_cols, encoding='latin-1')\n",
    "\n",
    "n_items = items.shape[0]\n",
    "print('Number of items:', n_items)\n",
    "items.head(3)"
   ]
  },
  {
   "cell_type": "markdown",
   "metadata": {},
   "source": [
    "* #### *Mark the genres that the films belongs*"
   ]
  },
  {
   "cell_type": "code",
   "execution_count": 8,
   "metadata": {},
   "outputs": [
    {
     "data": {
      "text/plain": [
       "array([[ 0.42815333,  0.98567456, -0.14101414, ..., -0.17343825,\n",
       "        -0.46567848,  0.30970099],\n",
       "       [ 0.34886382,  0.15849418,  1.52206757, ..., -0.22632823,\n",
       "         0.233053  , -0.5823677 ],\n",
       "       [ 0.14613918,  0.00221269,  0.57076853, ..., -0.1621657 ,\n",
       "         0.0753382 , -0.08793653],\n",
       "       ...,\n",
       "       [ 1.09717346, -0.25839105, -0.17052655, ...,  0.03627062,\n",
       "        -0.01636308, -0.01333857],\n",
       "       [ 0.36359564,  0.86330643, -0.20130697, ..., -0.0298791 ,\n",
       "         0.05317769, -0.02892787],\n",
       "       [ 0.86674012, -0.44072189, -0.17427834, ..., -0.01020797,\n",
       "         0.00702023, -0.02395807]])"
      ]
     },
     "execution_count": 8,
     "metadata": {},
     "output_type": "execute_result"
    }
   ],
   "source": [
    "item_counter = items.iloc[:,5:]\n",
    "item_counter = TruncatedSVD(n_components=10).fit_transform(item_counter)\n",
    "item_counter"
   ]
  },
  {
   "cell_type": "markdown",
   "metadata": {},
   "source": [
    "* #### *Erect the TF-IDF matrix for the importance percentage of each word in a film*"
   ]
  },
  {
   "cell_type": "code",
   "execution_count": 9,
   "metadata": {},
   "outputs": [],
   "source": [
    "from sklearn.feature_extraction.text import TfidfTransformer"
   ]
  },
  {
   "cell_type": "code",
   "execution_count": 10,
   "metadata": {},
   "outputs": [],
   "source": [
    "transformer = TfidfTransformer(smooth_idf=True, norm ='l2')\n",
    "tfidf = transformer.fit_transform(item_counter).toarray()\n",
    "# tfidf = TruncatedSVD(n_components=7).fit_transform(tfidf)"
   ]
  },
  {
   "cell_type": "code",
   "execution_count": 11,
   "metadata": {},
   "outputs": [
    {
     "name": "stdout",
     "output_type": "stream",
     "text": [
      "(1682, 10)\n"
     ]
    },
    {
     "data": {
      "text/html": [
       "<div>\n",
       "<style scoped>\n",
       "    .dataframe tbody tr th:only-of-type {\n",
       "        vertical-align: middle;\n",
       "    }\n",
       "\n",
       "    .dataframe tbody tr th {\n",
       "        vertical-align: top;\n",
       "    }\n",
       "\n",
       "    .dataframe thead th {\n",
       "        text-align: right;\n",
       "    }\n",
       "</style>\n",
       "<table border=\"1\" class=\"dataframe\">\n",
       "  <thead>\n",
       "    <tr style=\"text-align: right;\">\n",
       "      <th></th>\n",
       "      <th>0</th>\n",
       "      <th>1</th>\n",
       "      <th>2</th>\n",
       "      <th>3</th>\n",
       "      <th>4</th>\n",
       "      <th>5</th>\n",
       "      <th>6</th>\n",
       "      <th>7</th>\n",
       "      <th>8</th>\n",
       "      <th>9</th>\n",
       "    </tr>\n",
       "  </thead>\n",
       "  <tbody>\n",
       "    <tr>\n",
       "      <th>0</th>\n",
       "      <td>0.270314</td>\n",
       "      <td>0.622305</td>\n",
       "      <td>-0.089029</td>\n",
       "      <td>-0.292043</td>\n",
       "      <td>0.100601</td>\n",
       "      <td>0.547172</td>\n",
       "      <td>0.016544</td>\n",
       "      <td>-0.109500</td>\n",
       "      <td>-0.294006</td>\n",
       "      <td>0.195529</td>\n",
       "    </tr>\n",
       "    <tr>\n",
       "      <th>1</th>\n",
       "      <td>0.203476</td>\n",
       "      <td>0.092442</td>\n",
       "      <td>0.887750</td>\n",
       "      <td>-0.073272</td>\n",
       "      <td>0.048161</td>\n",
       "      <td>0.054635</td>\n",
       "      <td>-0.001458</td>\n",
       "      <td>-0.132007</td>\n",
       "      <td>0.135929</td>\n",
       "      <td>-0.339668</td>\n",
       "    </tr>\n",
       "    <tr>\n",
       "      <th>2</th>\n",
       "      <td>0.148509</td>\n",
       "      <td>0.002249</td>\n",
       "      <td>0.580025</td>\n",
       "      <td>0.176663</td>\n",
       "      <td>-0.680926</td>\n",
       "      <td>0.286954</td>\n",
       "      <td>-0.152620</td>\n",
       "      <td>-0.164796</td>\n",
       "      <td>0.076560</td>\n",
       "      <td>-0.089363</td>\n",
       "    </tr>\n",
       "    <tr>\n",
       "      <th>3</th>\n",
       "      <td>0.796917</td>\n",
       "      <td>0.296145</td>\n",
       "      <td>0.163941</td>\n",
       "      <td>-0.274247</td>\n",
       "      <td>0.105781</td>\n",
       "      <td>-0.333186</td>\n",
       "      <td>0.015898</td>\n",
       "      <td>-0.152123</td>\n",
       "      <td>-0.170508</td>\n",
       "      <td>-0.021515</td>\n",
       "    </tr>\n",
       "    <tr>\n",
       "      <th>4</th>\n",
       "      <td>0.642389</td>\n",
       "      <td>-0.262401</td>\n",
       "      <td>0.295646</td>\n",
       "      <td>0.012297</td>\n",
       "      <td>-0.485331</td>\n",
       "      <td>0.157426</td>\n",
       "      <td>0.382311</td>\n",
       "      <td>0.135595</td>\n",
       "      <td>0.064258</td>\n",
       "      <td>0.043803</td>\n",
       "    </tr>\n",
       "    <tr>\n",
       "      <th>...</th>\n",
       "      <td>...</td>\n",
       "      <td>...</td>\n",
       "      <td>...</td>\n",
       "      <td>...</td>\n",
       "      <td>...</td>\n",
       "      <td>...</td>\n",
       "      <td>...</td>\n",
       "      <td>...</td>\n",
       "      <td>...</td>\n",
       "      <td>...</td>\n",
       "    </tr>\n",
       "    <tr>\n",
       "      <th>1677</th>\n",
       "      <td>0.867870</td>\n",
       "      <td>-0.441296</td>\n",
       "      <td>-0.174506</td>\n",
       "      <td>-0.132168</td>\n",
       "      <td>0.009077</td>\n",
       "      <td>-0.022736</td>\n",
       "      <td>-0.053011</td>\n",
       "      <td>-0.010221</td>\n",
       "      <td>0.007029</td>\n",
       "      <td>-0.023989</td>\n",
       "    </tr>\n",
       "    <tr>\n",
       "      <th>1678</th>\n",
       "      <td>0.268770</td>\n",
       "      <td>0.131714</td>\n",
       "      <td>0.410051</td>\n",
       "      <td>0.766359</td>\n",
       "      <td>-0.266757</td>\n",
       "      <td>0.256510</td>\n",
       "      <td>-0.082283</td>\n",
       "      <td>-0.082569</td>\n",
       "      <td>0.037082</td>\n",
       "      <td>-0.055183</td>\n",
       "    </tr>\n",
       "    <tr>\n",
       "      <th>1679</th>\n",
       "      <td>0.778236</td>\n",
       "      <td>-0.183279</td>\n",
       "      <td>-0.120956</td>\n",
       "      <td>0.544680</td>\n",
       "      <td>0.216603</td>\n",
       "      <td>0.038525</td>\n",
       "      <td>-0.012799</td>\n",
       "      <td>0.025727</td>\n",
       "      <td>-0.011606</td>\n",
       "      <td>-0.009461</td>\n",
       "    </tr>\n",
       "    <tr>\n",
       "      <th>1680</th>\n",
       "      <td>0.363731</td>\n",
       "      <td>0.863628</td>\n",
       "      <td>-0.201382</td>\n",
       "      <td>-0.202268</td>\n",
       "      <td>-0.160101</td>\n",
       "      <td>-0.099328</td>\n",
       "      <td>-0.017907</td>\n",
       "      <td>-0.029890</td>\n",
       "      <td>0.053197</td>\n",
       "      <td>-0.028939</td>\n",
       "    </tr>\n",
       "    <tr>\n",
       "      <th>1681</th>\n",
       "      <td>0.867870</td>\n",
       "      <td>-0.441296</td>\n",
       "      <td>-0.174506</td>\n",
       "      <td>-0.132168</td>\n",
       "      <td>0.009077</td>\n",
       "      <td>-0.022736</td>\n",
       "      <td>-0.053011</td>\n",
       "      <td>-0.010221</td>\n",
       "      <td>0.007029</td>\n",
       "      <td>-0.023989</td>\n",
       "    </tr>\n",
       "  </tbody>\n",
       "</table>\n",
       "<p>1682 rows × 10 columns</p>\n",
       "</div>"
      ],
      "text/plain": [
       "             0         1         2         3         4         5         6  \\\n",
       "0     0.270314  0.622305 -0.089029 -0.292043  0.100601  0.547172  0.016544   \n",
       "1     0.203476  0.092442  0.887750 -0.073272  0.048161  0.054635 -0.001458   \n",
       "2     0.148509  0.002249  0.580025  0.176663 -0.680926  0.286954 -0.152620   \n",
       "3     0.796917  0.296145  0.163941 -0.274247  0.105781 -0.333186  0.015898   \n",
       "4     0.642389 -0.262401  0.295646  0.012297 -0.485331  0.157426  0.382311   \n",
       "...        ...       ...       ...       ...       ...       ...       ...   \n",
       "1677  0.867870 -0.441296 -0.174506 -0.132168  0.009077 -0.022736 -0.053011   \n",
       "1678  0.268770  0.131714  0.410051  0.766359 -0.266757  0.256510 -0.082283   \n",
       "1679  0.778236 -0.183279 -0.120956  0.544680  0.216603  0.038525 -0.012799   \n",
       "1680  0.363731  0.863628 -0.201382 -0.202268 -0.160101 -0.099328 -0.017907   \n",
       "1681  0.867870 -0.441296 -0.174506 -0.132168  0.009077 -0.022736 -0.053011   \n",
       "\n",
       "             7         8         9  \n",
       "0    -0.109500 -0.294006  0.195529  \n",
       "1    -0.132007  0.135929 -0.339668  \n",
       "2    -0.164796  0.076560 -0.089363  \n",
       "3    -0.152123 -0.170508 -0.021515  \n",
       "4     0.135595  0.064258  0.043803  \n",
       "...        ...       ...       ...  \n",
       "1677 -0.010221  0.007029 -0.023989  \n",
       "1678 -0.082569  0.037082 -0.055183  \n",
       "1679  0.025727 -0.011606 -0.009461  \n",
       "1680 -0.029890  0.053197 -0.028939  \n",
       "1681 -0.010221  0.007029 -0.023989  \n",
       "\n",
       "[1682 rows x 10 columns]"
      ]
     },
     "execution_count": 11,
     "metadata": {},
     "output_type": "execute_result"
    }
   ],
   "source": [
    "print(tfidf.shape)\n",
    "pd.DataFrame(tfidf)"
   ]
  },
  {
   "cell_type": "code",
   "execution_count": 12,
   "metadata": {},
   "outputs": [
    {
     "data": {
      "text/plain": [
       "(array([ 1,  2,  3,  4,  5,  6,  7,  8,  9, 10]),\n",
       " [Text(1, 0, '1'),\n",
       "  Text(2, 0, '2'),\n",
       "  Text(3, 0, '3'),\n",
       "  Text(4, 0, '4'),\n",
       "  Text(5, 0, '5'),\n",
       "  Text(6, 0, '6'),\n",
       "  Text(7, 0, '7'),\n",
       "  Text(8, 0, '8'),\n",
       "  Text(9, 0, '9'),\n",
       "  Text(10, 0, '10')])"
      ]
     },
     "execution_count": 12,
     "metadata": {},
     "output_type": "execute_result"
    },
    {
     "data": {
      "image/png": "[encoded data removed]",
      "text/plain": [
       "<Figure size 640x480 with 1 Axes>"
      ]
     },
     "metadata": {},
     "output_type": "display_data"
    }
   ],
   "source": [
    "plt.boxplot(tfidf)\n",
    "plt.xticks(rotation=90)"
   ]
  },
  {
   "cell_type": "markdown",
   "metadata": {},
   "source": [
    "* #### *Remove TF-IDF outlier values*"
   ]
  },
  {
   "cell_type": "code",
   "execution_count": 13,
   "metadata": {},
   "outputs": [
    {
     "data": {
      "text/html": [
       "<div>\n",
       "<style scoped>\n",
       "    .dataframe tbody tr th:only-of-type {\n",
       "        vertical-align: middle;\n",
       "    }\n",
       "\n",
       "    .dataframe tbody tr th {\n",
       "        vertical-align: top;\n",
       "    }\n",
       "\n",
       "    .dataframe thead th {\n",
       "        text-align: right;\n",
       "    }\n",
       "</style>\n",
       "<table border=\"1\" class=\"dataframe\">\n",
       "  <thead>\n",
       "    <tr style=\"text-align: right;\">\n",
       "      <th></th>\n",
       "      <th>0</th>\n",
       "      <th>1</th>\n",
       "      <th>2</th>\n",
       "      <th>3</th>\n",
       "      <th>4</th>\n",
       "      <th>5</th>\n",
       "      <th>6</th>\n",
       "      <th>7</th>\n",
       "      <th>8</th>\n",
       "      <th>9</th>\n",
       "    </tr>\n",
       "  </thead>\n",
       "  <tbody>\n",
       "    <tr>\n",
       "      <th>0</th>\n",
       "      <td>0.270314</td>\n",
       "      <td>0.622305</td>\n",
       "      <td>-0.089029</td>\n",
       "      <td>-0.292043</td>\n",
       "      <td>0.100601</td>\n",
       "      <td>0.547172</td>\n",
       "      <td>0.016544</td>\n",
       "      <td>-0.109500</td>\n",
       "      <td>-0.294006</td>\n",
       "      <td>0.195529</td>\n",
       "    </tr>\n",
       "    <tr>\n",
       "      <th>1</th>\n",
       "      <td>0.203476</td>\n",
       "      <td>0.092442</td>\n",
       "      <td>0.887750</td>\n",
       "      <td>-0.073272</td>\n",
       "      <td>0.048161</td>\n",
       "      <td>0.054635</td>\n",
       "      <td>-0.001458</td>\n",
       "      <td>-0.132007</td>\n",
       "      <td>0.135929</td>\n",
       "      <td>-0.339668</td>\n",
       "    </tr>\n",
       "    <tr>\n",
       "      <th>2</th>\n",
       "      <td>0.148509</td>\n",
       "      <td>0.002249</td>\n",
       "      <td>0.580025</td>\n",
       "      <td>0.176663</td>\n",
       "      <td>-0.680926</td>\n",
       "      <td>0.286954</td>\n",
       "      <td>-0.152620</td>\n",
       "      <td>-0.164796</td>\n",
       "      <td>0.076560</td>\n",
       "      <td>-0.089363</td>\n",
       "    </tr>\n",
       "    <tr>\n",
       "      <th>3</th>\n",
       "      <td>0.796917</td>\n",
       "      <td>0.296145</td>\n",
       "      <td>0.163941</td>\n",
       "      <td>-0.274247</td>\n",
       "      <td>0.105781</td>\n",
       "      <td>-0.333186</td>\n",
       "      <td>0.015898</td>\n",
       "      <td>-0.152123</td>\n",
       "      <td>-0.170508</td>\n",
       "      <td>-0.021515</td>\n",
       "    </tr>\n",
       "    <tr>\n",
       "      <th>4</th>\n",
       "      <td>0.642389</td>\n",
       "      <td>-0.262401</td>\n",
       "      <td>0.295646</td>\n",
       "      <td>0.012297</td>\n",
       "      <td>-0.485331</td>\n",
       "      <td>0.157426</td>\n",
       "      <td>0.382311</td>\n",
       "      <td>0.135595</td>\n",
       "      <td>0.064258</td>\n",
       "      <td>0.043803</td>\n",
       "    </tr>\n",
       "    <tr>\n",
       "      <th>...</th>\n",
       "      <td>...</td>\n",
       "      <td>...</td>\n",
       "      <td>...</td>\n",
       "      <td>...</td>\n",
       "      <td>...</td>\n",
       "      <td>...</td>\n",
       "      <td>...</td>\n",
       "      <td>...</td>\n",
       "      <td>...</td>\n",
       "      <td>...</td>\n",
       "    </tr>\n",
       "    <tr>\n",
       "      <th>1677</th>\n",
       "      <td>0.867870</td>\n",
       "      <td>-0.441296</td>\n",
       "      <td>-0.174506</td>\n",
       "      <td>-0.132168</td>\n",
       "      <td>0.009077</td>\n",
       "      <td>-0.022736</td>\n",
       "      <td>-0.053011</td>\n",
       "      <td>-0.010221</td>\n",
       "      <td>0.007029</td>\n",
       "      <td>-0.023989</td>\n",
       "    </tr>\n",
       "    <tr>\n",
       "      <th>1678</th>\n",
       "      <td>0.268770</td>\n",
       "      <td>0.131714</td>\n",
       "      <td>0.410051</td>\n",
       "      <td>0.766359</td>\n",
       "      <td>-0.266757</td>\n",
       "      <td>0.256510</td>\n",
       "      <td>-0.082283</td>\n",
       "      <td>-0.082569</td>\n",
       "      <td>0.037082</td>\n",
       "      <td>-0.055183</td>\n",
       "    </tr>\n",
       "    <tr>\n",
       "      <th>1679</th>\n",
       "      <td>0.778236</td>\n",
       "      <td>-0.183279</td>\n",
       "      <td>-0.120956</td>\n",
       "      <td>0.544680</td>\n",
       "      <td>0.216603</td>\n",
       "      <td>0.038525</td>\n",
       "      <td>-0.012799</td>\n",
       "      <td>0.025727</td>\n",
       "      <td>-0.011606</td>\n",
       "      <td>-0.009461</td>\n",
       "    </tr>\n",
       "    <tr>\n",
       "      <th>1680</th>\n",
       "      <td>0.363731</td>\n",
       "      <td>0.863628</td>\n",
       "      <td>-0.201382</td>\n",
       "      <td>-0.202268</td>\n",
       "      <td>-0.160101</td>\n",
       "      <td>-0.099328</td>\n",
       "      <td>-0.017907</td>\n",
       "      <td>-0.029890</td>\n",
       "      <td>0.053197</td>\n",
       "      <td>-0.028939</td>\n",
       "    </tr>\n",
       "    <tr>\n",
       "      <th>1681</th>\n",
       "      <td>0.867870</td>\n",
       "      <td>-0.441296</td>\n",
       "      <td>-0.174506</td>\n",
       "      <td>-0.132168</td>\n",
       "      <td>0.009077</td>\n",
       "      <td>-0.022736</td>\n",
       "      <td>-0.053011</td>\n",
       "      <td>-0.010221</td>\n",
       "      <td>0.007029</td>\n",
       "      <td>-0.023989</td>\n",
       "    </tr>\n",
       "  </tbody>\n",
       "</table>\n",
       "<p>1558 rows × 10 columns</p>\n",
       "</div>"
      ],
      "text/plain": [
       "             0         1         2         3         4         5         6  \\\n",
       "0     0.270314  0.622305 -0.089029 -0.292043  0.100601  0.547172  0.016544   \n",
       "1     0.203476  0.092442  0.887750 -0.073272  0.048161  0.054635 -0.001458   \n",
       "2     0.148509  0.002249  0.580025  0.176663 -0.680926  0.286954 -0.152620   \n",
       "3     0.796917  0.296145  0.163941 -0.274247  0.105781 -0.333186  0.015898   \n",
       "4     0.642389 -0.262401  0.295646  0.012297 -0.485331  0.157426  0.382311   \n",
       "...        ...       ...       ...       ...       ...       ...       ...   \n",
       "1677  0.867870 -0.441296 -0.174506 -0.132168  0.009077 -0.022736 -0.053011   \n",
       "1678  0.268770  0.131714  0.410051  0.766359 -0.266757  0.256510 -0.082283   \n",
       "1679  0.778236 -0.183279 -0.120956  0.544680  0.216603  0.038525 -0.012799   \n",
       "1680  0.363731  0.863628 -0.201382 -0.202268 -0.160101 -0.099328 -0.017907   \n",
       "1681  0.867870 -0.441296 -0.174506 -0.132168  0.009077 -0.022736 -0.053011   \n",
       "\n",
       "             7         8         9  \n",
       "0    -0.109500 -0.294006  0.195529  \n",
       "1    -0.132007  0.135929 -0.339668  \n",
       "2    -0.164796  0.076560 -0.089363  \n",
       "3    -0.152123 -0.170508 -0.021515  \n",
       "4     0.135595  0.064258  0.043803  \n",
       "...        ...       ...       ...  \n",
       "1677 -0.010221  0.007029 -0.023989  \n",
       "1678 -0.082569  0.037082 -0.055183  \n",
       "1679  0.025727 -0.011606 -0.009461  \n",
       "1680 -0.029890  0.053197 -0.028939  \n",
       "1681 -0.010221  0.007029 -0.023989  \n",
       "\n",
       "[1558 rows x 10 columns]"
      ]
     },
     "execution_count": 13,
     "metadata": {},
     "output_type": "execute_result"
    }
   ],
   "source": [
    "tfidf_temp = pd.DataFrame(tfidf)\n",
    "tfidf_temp = tfidf_temp[(tfidf_temp.loc[:, 4:10]<float(0.7)).all(axis=1)]\n",
    "\n",
    "tfidf_temp"
   ]
  },
  {
   "cell_type": "markdown",
   "metadata": {},
   "source": [
    "### **Build the recommender model by using the predicted rating of users**"
   ]
  },
  {
   "cell_type": "code",
   "execution_count": 14,
   "metadata": {},
   "outputs": [],
   "source": [
    "from sklearn.linear_model import Ridge\n",
    "from sklearn.model_selection import GridSearchCV\n",
    "import math\n",
    "from sklearn.metrics import mean_squared_error, r2_score\n",
    "import seaborn as sns\n",
    "import matplotlib.pyplot as plt"
   ]
  },
  {
   "cell_type": "code",
   "execution_count": 15,
   "metadata": {},
   "outputs": [],
   "source": [
    "class ContentBasedWithRating():\n",
    "    def __init__(self, tfidf:TfidfTransformer) -> None:\n",
    "        self.d = tfidf.shape[1]\n",
    "        self.W = np.zeros((self.d, n_users))\n",
    "        self.b = np.zeros((1, n_users))\n",
    "        self.Yhat = None\n",
    "    \n",
    "    def get_items_rated_by_user(self, rate_matrix, user_id) -> tuple:\n",
    "        \"\"\"\n",
    "        in each line of rate_matrix, we have infor: user_id, item_id, rating (scores), time_stamp\n",
    "        we care about the first three values\n",
    "        return (item_ids, scores) rated by user user_id\n",
    "        \"\"\"\n",
    "        y = rate_matrix.iloc[:,0] # all users\n",
    "        \n",
    "        ids = np.where(y == user_id)[0] # users = user_id\n",
    "        item_ids = rate_matrix.iloc[ids, 1] # movie_ids of user_id\n",
    "        scores = rate_matrix.iloc[ids, 2] # rates of those movie_ids\n",
    "        return item_ids, scores\n",
    "\n",
    "    def fit_transform(self, rate_train:iter, n_users:int, learning_rate=0.01):\n",
    "        for n in range(1, n_users+1):    \n",
    "            ids, scores = self.get_items_rated_by_user(rate_train, n)   # choose the movie_ids and scores of rated movies by user_n\n",
    "            \n",
    "            clf = Ridge(alpha=learning_rate, fit_intercept = True)   # Predict rating of this user by the linear model + regularization\n",
    "            Xhat = tfidf[ids-1, :]  # choose the feature vectors of movies were rated by user_n\n",
    "            clf.fit(Xhat, scores)\n",
    "            \n",
    "            self.W[:, n-1] = clf.coef_\n",
    "            self.b[0, n-1] = clf.intercept_\n",
    "        \n",
    "        # Predict the whole users' rating for each film which is Utility matrix\n",
    "        self.Yhat = abs(tfidf.dot(self.W) + self.b)\n",
    "            \n",
    "    def predict(self, user_id:int, rate_test:iter, Yhat) -> tuple:      \n",
    "        np.set_printoptions(precision=2) # 2 digits after . \n",
    "        movie_ids, scores = self.get_items_rated_by_user(rate_test, user_id)\n",
    "        print('Rated movies ids :', movie_ids.to_list())\n",
    "        print('True ratings     :', scores.to_list())\n",
    "        print('Predicted ratings:', Yhat[movie_ids-1, user_id-1])\n",
    "        # Plotting linear regression of rate_test and predicts\n",
    "        sns.regplot(x=Yhat[movie_ids-1, user_id-1], y=scores)\n",
    "        plt.xlabel('Predicted scores')\n",
    "        plt.ylabel('Actual scores')\n",
    "        \n",
    "        return movie_ids.to_list(), Yhat[movie_ids-1, user_id-1]\n",
    "    \n",
    "    def AVG_MSE(self, rates:iter) -> float:\n",
    "        mse_sum = 0.0\n",
    "        for n in range(1, n_users+1):\n",
    "            ids, scores_truth = self.get_items_rated_by_user(rates, n)\n",
    "            scores_pred = self.Yhat[ids-1, n-1]\n",
    "            mse = mean_squared_error(y_pred=scores_pred, y_true=scores_truth)\n",
    "            mse_sum += mse\n",
    "        \n",
    "        return float(mse_sum)/len(rates)\n",
    "    \n",
    "def recommend(items, user_id, Yhat):\n",
    "    return items['movie id'], Yhat[items['movie id']-1, user_id-1]"
   ]
  },
  {
   "cell_type": "code",
   "execution_count": 16,
   "metadata": {},
   "outputs": [],
   "source": [
    "def search_lr(model, data, users, parameters):\n",
    "    mse = []\n",
    "    for learning_rate in parameters:\n",
    "        model.fit_transform(data, users, learning_rate=learning_rate)\n",
    "        \n",
    "        mse.append(model.AVG_MSE(rate_test))\n",
    "    \n",
    "    print(mse)\n",
    "    sns.lineplot(x=parameters, y=mse)\n",
    "    "
   ]
  },
  {
   "cell_type": "code",
   "execution_count": 17,
   "metadata": {},
   "outputs": [],
   "source": [
    "recommender = ContentBasedWithRating(tfidf=tfidf_temp)"
   ]
  },
  {
   "cell_type": "code",
   "execution_count": 18,
   "metadata": {},
   "outputs": [
    {
     "name": "stdout",
     "output_type": "stream",
     "text": [
      "[0.23278796896672121, 0.15667005783539042, 0.14713316665692483, 0.14203530585925753, 0.13858426503130405, 0.1280030777629772]\n"
     ]
    },
    {
     "data": {
      "image/png": "[encoded data removed]",
      "text/plain": [
       "<Figure size 640x480 with 1 Axes>"
      ]
     },
     "metadata": {},
     "output_type": "display_data"
    }
   ],
   "source": [
    "parameters = [0.001, 0.01, 0.02, 0.03, 0.04, 0.1]\n",
    "\n",
    "search_lr(recommender, rate_train, n_users, parameters)"
   ]
  },
  {
   "cell_type": "code",
   "execution_count": 19,
   "metadata": {},
   "outputs": [],
   "source": [
    "recommender.fit_transform(rate_train, n_users, learning_rate=0.1)"
   ]
  },
  {
   "cell_type": "markdown",
   "metadata": {},
   "source": [
    "Testing prediction"
   ]
  },
  {
   "cell_type": "code",
   "execution_count": 20,
   "metadata": {},
   "outputs": [
    {
     "name": "stdout",
     "output_type": "stream",
     "text": [
      "Rated movies ids : [255, 257, 269, 289, 298, 301, 323, 412, 1047, 1160]\n",
      "True ratings     : [4, 4, 3, 4, 3, 5, 1, 4, 1, 5]\n",
      "Predicted ratings: [4.26 3.26 3.02 4.07 2.5  3.02 2.86 3.02 3.02 5.12]\n"
     ]
    },
    {
     "data": {
      "image/png": "[encoded data removed]",
      "text/plain": [
       "<Figure size 640x480 with 1 Axes>"
      ]
     },
     "metadata": {},
     "output_type": "display_data"
    }
   ],
   "source": [
    "_, y_pred_test = recommender.predict(78, rate_test, recommender.Yhat)\n",
    "_, y_true_test = recommender.get_items_rated_by_user(rate_test, 78)"
   ]
  },
  {
   "cell_type": "code",
   "execution_count": 21,
   "metadata": {},
   "outputs": [
    {
     "name": "stdout",
     "output_type": "stream",
     "text": [
      "R2 for testing 0.27691856685359906\n",
      "MSE for testing 1.3304698369893777\n"
     ]
    }
   ],
   "source": [
    "print('R2 for testing', r2_score(y_pred=y_pred_test, y_true=y_true_test))\n",
    "print('MSE for testing', mean_squared_error(y_pred=y_pred_test, y_true=y_true_test))"
   ]
  },
  {
   "cell_type": "markdown",
   "metadata": {},
   "source": [
    "#### Evaluate the model"
   ]
  },
  {
   "cell_type": "code",
   "execution_count": 22,
   "metadata": {},
   "outputs": [
    {
     "name": "stderr",
     "output_type": "stream",
     "text": [
      "C:\\Users\\buidu\\AppData\\Local\\Temp\\ipykernel_14644\\1508526776.py:1: UserWarning: \n",
      "\n",
      "`distplot` is a deprecated function and will be removed in seaborn v0.14.0.\n",
      "\n",
      "Please adapt your code to use either `displot` (a figure-level function with\n",
      "similar flexibility) or `kdeplot` (an axes-level function for kernel density plots).\n",
      "\n",
      "For a guide to updating your code to use the new functions, please see\n",
      "https://gist.github.com/mwaskom/de44147ed2974457ad6372750bbe5751\n",
      "\n",
      "  ax1 = sns.distplot(y_true_test, hist=False, color='red', label='Actual value')\n"
     ]
    },
    {
     "name": "stderr",
     "output_type": "stream",
     "text": [
      "C:\\Users\\buidu\\AppData\\Local\\Temp\\ipykernel_14644\\1508526776.py:2: UserWarning: \n",
      "\n",
      "`distplot` is a deprecated function and will be removed in seaborn v0.14.0.\n",
      "\n",
      "Please adapt your code to use either `displot` (a figure-level function with\n",
      "similar flexibility) or `kdeplot` (an axes-level function for kernel density plots).\n",
      "\n",
      "For a guide to updating your code to use the new functions, please see\n",
      "https://gist.github.com/mwaskom/de44147ed2974457ad6372750bbe5751\n",
      "\n",
      "  ax2 = sns.distplot(y_pred_test, hist=False, color='blue', label='Predicted value', ax=ax1)\n"
     ]
    },
    {
     "data": {
      "text/plain": [
       "<matplotlib.legend.Legend at 0x213d30db850>"
      ]
     },
     "execution_count": 22,
     "metadata": {},
     "output_type": "execute_result"
    },
    {
     "data": {
      "image/png": "[encoded data removed]",
      "text/plain": [
       "<Figure size 640x480 with 1 Axes>"
      ]
     },
     "metadata": {},
     "output_type": "display_data"
    }
   ],
   "source": [
    "ax1 = sns.distplot(y_true_test, hist=False, color='red', label='Actual value')\n",
    "ax2 = sns.distplot(y_pred_test, hist=False, color='blue', label='Predicted value', ax=ax1)\n",
    "plt.legend()"
   ]
  },
  {
   "cell_type": "code",
   "execution_count": 23,
   "metadata": {},
   "outputs": [
    {
     "name": "stdout",
     "output_type": "stream",
     "text": [
      "MSE average for training: 0.007654252784410516\n",
      "MSE average for testing 0.1280030777629772\n"
     ]
    }
   ],
   "source": [
    "print('MSE average for training:', recommender.AVG_MSE(rate_train))\n",
    "print('MSE average for testing', recommender.AVG_MSE(rate_test))"
   ]
  },
  {
   "cell_type": "markdown",
   "metadata": {},
   "source": [
    "### **Dump Yhat to csv file**"
   ]
  },
  {
   "cell_type": "code",
   "execution_count": 24,
   "metadata": {},
   "outputs": [],
   "source": [
    "np.savetxt('./artificats/recommends.csv', recommender.Yhat, delimiter=',')"
   ]
  },
  {
   "cell_type": "code",
   "execution_count": 25,
   "metadata": {},
   "outputs": [],
   "source": [
    "Yhat = np.loadtxt('./artificats/recommends.csv', delimiter=',')"
   ]
  },
  {
   "cell_type": "code",
   "execution_count": 26,
   "metadata": {},
   "outputs": [
    {
     "name": "stdout",
     "output_type": "stream",
     "text": [
      "Ma trận Utility giữa movie và user: (1682, 943)\n"
     ]
    },
    {
     "data": {
      "text/plain": [
       "array([[2.46, 3.31, 1.13, ..., 5.05, 4.08, 2.7 ],\n",
       "       [2.73, 4.65, 2.72, ..., 2.45, 4.4 , 3.62],\n",
       "       [3.57, 2.96, 2.22, ..., 5.42, 4.12, 3.76],\n",
       "       ...,\n",
       "       [4.12, 4.09, 2.96, ..., 5.73, 4.63, 3.49],\n",
       "       [3.59, 3.57, 3.21, ..., 3.81, 3.84, 2.73],\n",
       "       [4.03, 3.67, 3.25, ..., 5.74, 4.46, 3.81]])"
      ]
     },
     "execution_count": 26,
     "metadata": {},
     "output_type": "execute_result"
    }
   ],
   "source": [
    "print('Ma trận Utility giữa movie và user:', Yhat.shape)\n",
    "Yhat"
   ]
  },
  {
   "cell_type": "code",
   "execution_count": 27,
   "metadata": {},
   "outputs": [],
   "source": [
    "def recommend(items, user_id, Yhat):\n",
    "    return Yhat[items['movie id']-1, user_id-1]"
   ]
  },
  {
   "cell_type": "code",
   "execution_count": null,
   "metadata": {},
   "outputs": [],
   "source": [
    "# sorted(recommend(items, 1, Yhat).tolist(), reverse=True)"
   ]
  }
 ],
 "metadata": {
  "kernelspec": {
   "display_name": ".venv",
   "language": "python",
   "name": "python3"
  },
  "language_info": {
   "codemirror_mode": {
    "name": "ipython",
    "version": 3
   },
   "file_extension": ".py",
   "mimetype": "text/x-python",
   "name": "python",
   "nbconvert_exporter": "python",
   "pygments_lexer": "ipython3",
   "version": "3.11.1"
  }
 },
 "nbformat": 4,
 "nbformat_minor": 2
}
